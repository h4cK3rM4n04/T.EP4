{
 "cells": [
  {
   "cell_type": "markdown",
   "id": "aabb2c29",
   "metadata": {
    "user_expressions": []
   },
   "source": [
    "\n",
    "::::{grid} 1 1 2 2\n",
    "\n",
    ":::{card}\n",
    ":header: **Lycée Français de Tananarive**\n",
    "```{figure} https://www.egd.mg/wp-content/uploads/2020/01/cropped-logo-home-110px-2.png\n",
    ":name: myFigure\n",
    ":width: 300px\n",
    ":align: center\n",
    "```\n",
    ":::\n",
    "\n",
    ":::{card}\n",
    ":header: **Numérique et Sciences Informatiques - Serveur Jupyter**\n",
    "```{figure} https://galilee.ent.auvergnerhonealpes.fr/lectureFichiergw.do?ID_FICHIER=3782\n",
    ":width: 200px\n",
    ":align: center\n",
    "```\n",
    ":::\n",
    "\n",
    "::::"
   ]
  },
  {
   "cell_type": "markdown",
   "id": "e3f1098d-10fd-430f-9c14-9ea86e50cf02",
   "metadata": {
    "deletable": false,
    "editable": false,
    "nbgrader": {
     "cell_type": "markdown",
     "checksum": "f05d714c767532a9bd9d7eb7c40983f7",
     "grade": false,
     "grade_id": "cell-6575503357bd70b7",
     "locked": true,
     "schema_version": 3,
     "solution": false,
     "task": false
    },
    "tags": [],
    "user_expressions": []
   },
   "source": [
    "# NoteBook : Epreuve pratique n°3 \n",
    "## Exercice 2"
   ]
  },
  {
   "cell_type": "markdown",
   "id": "aee5b2f1-f4c7-454c-b452-29564be655bb",
   "metadata": {
    "deletable": false,
    "editable": false,
    "nbgrader": {
     "cell_type": "markdown",
     "checksum": "b091fe08aa81a35e17e094fc35fdd336",
     "grade": false,
     "grade_id": "cell-53398e21b41521e1",
     "locked": true,
     "schema_version": 3,
     "solution": false,
     "task": false
    },
    "tags": [],
    "user_expressions": []
   },
   "source": [
    ":::{warning} Liste chainée\n",
    "\n",
    "On veut écrire une classe pour gérer une file à l’aide d’une liste chaînée. On dispose d’une classe Maillon permettant la création d’un maillon de la chaîne, celui-ci étant constitué d’une valeur et d’une référence au maillon suivant de la chaîne :\n",
    "\n",
    "```python\n",
    "class Maillon :\n",
    "    def __init__(self,v) :\n",
    "        self.valeur = v\n",
    "        self.suivant = None\n",
    "```"
   ]
  },
  {
   "cell_type": "markdown",
   "id": "5c17aa72-5f87-4bc1-b774-9d21e944d731",
   "metadata": {
    "deletable": false,
    "editable": false,
    "nbgrader": {
     "cell_type": "markdown",
     "checksum": "8e7f7543b36cb20ad2529482b71d891b",
     "grade": false,
     "grade_id": "cell-c39ebceb6584a1bf",
     "locked": true,
     "schema_version": 3,
     "solution": false,
     "task": false
    },
    "tags": [],
    "user_expressions": []
   },
   "source": [
    ":::{tip} Compléter la classe\n",
    "Compléter la classe File suivante où l’attribut dernier_file contient le maillon correspondant à l’élément arrivé en dernier dans la file.\n",
    "\n",
    "Vous compléterez les méthodes :\n",
    "\n",
    "- `enfile(self,element)` : Opérateur, Ajoute un élément à la file\n",
    "- `est_vide(self)` : Prédicat : Teste si la file est vide\n",
    "- `defile(self)`: Opérateur, défile un élément et renvoie sa valeur"
   ]
  },
  {
   "cell_type": "code",
   "execution_count": 1,
   "id": "d10a5619-c688-42db-88b1-201ea4cdf8ae",
   "metadata": {
    "deletable": false,
    "nbgrader": {
     "cell_type": "code",
     "checksum": "32bb70aa515c42fb23e73d83722eb970",
     "grade": false,
     "grade_id": "cell-a7b0d1776b7b5a41",
     "locked": false,
     "schema_version": 3,
     "solution": true,
     "task": false
    },
    "tags": []
   },
   "outputs": [
    {
     "data": {
      "text/plain": [
       "5"
      ]
     },
     "execution_count": 1,
     "metadata": {},
     "output_type": "execute_result"
    }
   ],
   "source": [
    "class Maillon :\n",
    "    def __init__(self,v) :\n",
    "        self.valeur = v\n",
    "        self.suivant = None\n",
    "\n",
    "class File :\n",
    "    def __init__(self) :\n",
    "        self.dernier_file = None\n",
    "\n",
    "    def enfile(self,element) :\n",
    "        nouveau_maillon = Maillon(element)\n",
    "        nouveau_maillon.suivant = self.dernier_file\n",
    "        self.dernier_file = nouveau_maillon\n",
    "\n",
    "    def est_vide(self) :\n",
    "        if self.dernier_file == None:\n",
    "            return True\n",
    "        return False\n",
    "\n",
    "    def affiche(self) :\n",
    "        maillon = self.dernier_file\n",
    "        affichage = \"\"\n",
    "        while maillon != None :\n",
    "            affichage = affichage + str(maillon.valeur)\n",
    "            maillon = maillon.suivant\n",
    "        return affichage\n",
    "\n",
    "    def defile(self) :\n",
    "        if not self.est_vide() :\n",
    "            if self.dernier_file.suivant == None :\n",
    "                resultat = self.dernier_file.valeur\n",
    "                self.dernier_file = None\n",
    "                return resultat\n",
    "            maillon = self.dernier_file\n",
    "            while maillon.suivant.suivant != None :\n",
    "                maillon = maillon.suivant\n",
    "            resultat = maillon.suivant.valeur\n",
    "            maillon.suivant = None\n",
    "            return resultat\n",
    "        return None\n",
    "\n",
    "F = File()\n",
    "F.enfile(4)\n",
    "F.enfile(5)\n",
    "F.defile()\n",
    "F.enfile(1)\n",
    "F.enfile(2)\n",
    "F.enfile(3)\n",
    "F.defile()"
   ]
  },
  {
   "cell_type": "code",
   "execution_count": 3,
   "id": "f232abff-979f-433d-b681-c5d6e4df8bb2",
   "metadata": {
    "deletable": false,
    "editable": false,
    "nbgrader": {
     "cell_type": "code",
     "checksum": "9c8092c2ef76c4c6915fdb8ef740025f",
     "grade": true,
     "grade_id": "cell-350e40a40600e092",
     "locked": true,
     "points": 2,
     "schema_version": 3,
     "solution": false,
     "task": false
    },
    "tags": []
   },
   "outputs": [],
   "source": [
    "F = File()\n",
    "F.enfile(3)\n",
    "assert F.affiche() == \"3\"\n",
    "F.enfile(2)\n",
    "assert F.affiche() == \"23\"\n",
    "F.enfile(6)\n",
    "assert F.affiche() == \"623\""
   ]
  },
  {
   "cell_type": "code",
   "execution_count": 4,
   "id": "08dc6640-a2f7-4829-ba69-118035529047",
   "metadata": {
    "deletable": false,
    "editable": false,
    "nbgrader": {
     "cell_type": "code",
     "checksum": "7fdd00e6de3ea5e487a93bdf908fb08f",
     "grade": true,
     "grade_id": "cell-97126dfd5a5e4835",
     "locked": true,
     "points": 1,
     "schema_version": 3,
     "solution": false,
     "task": false
    },
    "tags": []
   },
   "outputs": [],
   "source": [
    "F = File()\n",
    "assert F.est_vide()\n",
    "F.enfile(3)\n",
    "assert not F.est_vide()"
   ]
  },
  {
   "cell_type": "code",
   "execution_count": 8,
   "id": "f9e60fa5-c0fc-429f-bcbc-0e9aa19f7e78",
   "metadata": {
    "deletable": false,
    "editable": false,
    "nbgrader": {
     "cell_type": "code",
     "checksum": "aa2489a191e99bfdbe1b7bba1dc547c0",
     "grade": true,
     "grade_id": "cell-e9240580b6f439bf",
     "locked": true,
     "points": 2,
     "schema_version": 3,
     "solution": false,
     "task": false
    },
    "tags": []
   },
   "outputs": [],
   "source": [
    "F = File()\n",
    "F.enfile(4)\n",
    "F.enfile(5)\n",
    "assert F.defile() == 4\n",
    "F.enfile(1)\n",
    "F.enfile(2)\n",
    "F.enfile(3)\n",
    "assert F.defile() == 5\n",
    "assert F.defile() == 1"
   ]
  },
  {
   "cell_type": "markdown",
   "id": "0c9453fd-159c-4977-9962-21177bcd25ff",
   "metadata": {
    "user_expressions": []
   },
   "source": [
    ":::{card}\n",
    ":header: **Equipe Pédagogique LFT-NSI**\n",
    "ressource éducative libre distribuée sous [Licence Creative Commons Attribution](http://creativecommons.org/licenses/by-nc-sa/4.0/)\n",
    "\n",
    "```{figure} https://licensebuttons.net/l/by-nc-sa/4.0/88x31.png\n",
    ":alt: Beautiful Sunset\n",
    ":width: 80px\n",
    ":align: center\n",
    "```\n",
    ":::"
   ]
  }
 ],
 "metadata": {
  "kernelspec": {
   "display_name": "Python 3 (ipykernel)",
   "language": "python",
   "name": "python3"
  },
  "language_info": {
   "codemirror_mode": {
    "name": "ipython",
    "version": 3
   },
   "file_extension": ".py",
   "mimetype": "text/x-python",
   "name": "python",
   "nbconvert_exporter": "python",
   "pygments_lexer": "ipython3",
   "version": "3.11.5"
  }
 },
 "nbformat": 4,
 "nbformat_minor": 5
}
