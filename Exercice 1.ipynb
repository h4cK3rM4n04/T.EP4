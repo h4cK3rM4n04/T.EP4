{
 "cells": [
  {
   "cell_type": "markdown",
   "metadata": {
    "user_expressions": []
   },
   "source": [
    "\n",
    "::::{grid} 1 1 2 2\n",
    "\n",
    ":::{card}\n",
    ":header: **Lycée Français de Tananarive**\n",
    "```{figure} https://www.egd.mg/wp-content/uploads/2020/01/cropped-logo-home-110px-2.png\n",
    ":name: myFigure\n",
    ":width: 300px\n",
    ":align: center\n",
    "```\n",
    ":::\n",
    "\n",
    ":::{card}\n",
    ":header: **Numérique et Sciences Informatiques - Serveur Jupyter**\n",
    "```{figure} https://galilee.ent.auvergnerhonealpes.fr/lectureFichiergw.do?ID_FICHIER=3782\n",
    ":width: 200px\n",
    ":align: center\n",
    "```\n",
    ":::\n",
    "\n",
    "::::"
   ]
  },
  {
   "cell_type": "markdown",
   "metadata": {
    "deletable": false,
    "editable": false,
    "nbgrader": {
     "cell_type": "markdown",
     "checksum": "8f2af4d36d10fc5a3a4f82a4133dec1e",
     "grade": false,
     "grade_id": "cell-3dcb0994d84ef64c",
     "locked": true,
     "schema_version": 3,
     "solution": false,
     "task": false
    },
    "user_expressions": []
   },
   "source": [
    "# NoteBook : Epreuve pratique n°3 \n",
    "## Exercice 1"
   ]
  },
  {
   "cell_type": "markdown",
   "metadata": {
    "deletable": false,
    "editable": false,
    "nbgrader": {
     "cell_type": "markdown",
     "checksum": "3d5fe4bd08e490b100ccbedab2ea44fa",
     "grade": false,
     "grade_id": "cell-12724cc4c6d0abe9",
     "locked": true,
     "schema_version": 3,
     "solution": false,
     "task": false
    },
    "user_expressions": []
   },
   "source": [
    ":::{warning} Un arbre binaire\n",
    "Dans cet exercice, un arbre binaire de caractères est stocké sous la forme d’un dictionnaire où les clefs sont les caractères des nœuds de l’arbre et les valeurs, pour chaque clef, la liste des caractères des fils gauche et droit du nœud.\n",
    "\n",
    "Par exemple, l’arbre est stocké dans\n",
    "\n",
    "`a= {'F':['B','G'], 'B':['A','D'], 'A':['',''], 'D':['C','E'], 'C':['',''], 'E':['',''], 'G':['','I'], 'I':['','H'],'H':['','']}`\n",
    "\n",
    "**Écrire une fonction récursive taille prenant en paramètres un arbre binaire arbre sous la forme d’un dictionnaire et un caractère lettre qui est la valeur du sommet de l’arbre, et qui renvoie la taille de l’arbre à savoir le nombre total de nœud.**\n",
    "\n",
    "$\\heartsuit$ : La lettre passée en paramètre appartient forcément à l'arbre, ce qui veut dire que l'arbre ne peut être vide\n",
    "\n",
    "$\\heartsuit$ : Un arbre réduit à sa racine aura donc une taille de 1.\n",
    "\n",
    "On pourra distinguer les 4 cas où les deux « fils » du nœud sont '', le fils gauche seulement est '', le fils droit seulement est '', aucun des deux fils n’est ''.\n",
    "\n",
    "Exemple :\n",
    "```Python\n",
    "taille(a, ’F’)\n",
    "9\n",
    "```"
   ]
  },
  {
   "cell_type": "code",
   "execution_count": 2,
   "metadata": {
    "deletable": false,
    "nbgrader": {
     "cell_type": "code",
     "checksum": "89270bf59efc834fee56433344cf0f0c",
     "grade": false,
     "grade_id": "cell-b00f3a3733649b5f",
     "locked": false,
     "schema_version": 3,
     "solution": true,
     "task": false
    },
    "tags": []
   },
   "outputs": [
    {
     "data": {
      "text/plain": [
       "9"
      ]
     },
     "execution_count": 2,
     "metadata": {},
     "output_type": "execute_result"
    }
   ],
   "source": [
    "def taille(arbre,lettre):\n",
    "    if arbre[lettre] == [\"\", \"\"]:\n",
    "        return 1\n",
    "    else:\n",
    "        if not arbre[lettre][0] and not arbre[lettre][1]:\n",
    "            return 1\n",
    "        elif arbre[lettre][0] and not arbre[lettre][1]:\n",
    "            return 1 + taille(arbre, arbre[lettre][0])\n",
    "        elif not arbre[lettre][0] and arbre[lettre][1]:\n",
    "            return 1 + taille(arbre, arbre[lettre][1])\n",
    "        elif arbre[lettre][0] and arbre[lettre][1]:\n",
    "            return 1 + taille(arbre, arbre[lettre][0]) + taille(arbre, arbre[lettre][1])\n",
    "a= {'F':['B','G'], 'B':['A','D'], 'A':['',''], 'D':['C','E'], 'C':['',''], 'E':['',''], 'G':['','I'], 'I':['','H'],'H':['','']}\n",
    "taille (a,\"F\" )"
   ]
  },
  {
   "cell_type": "code",
   "execution_count": 3,
   "metadata": {
    "deletable": false,
    "editable": false,
    "nbgrader": {
     "cell_type": "code",
     "checksum": "0928cd45991fe892bb0ad525fb66d66e",
     "grade": true,
     "grade_id": "cell-98c481cc6bc1a280",
     "locked": true,
     "points": 1,
     "schema_version": 3,
     "solution": false,
     "task": false
    },
    "tags": []
   },
   "outputs": [],
   "source": [
    "a1 = {'A' : ['','']}\n",
    "assert taille(a1, \"A\") == 1"
   ]
  },
  {
   "cell_type": "code",
   "execution_count": 4,
   "metadata": {
    "deletable": false,
    "editable": false,
    "nbgrader": {
     "cell_type": "code",
     "checksum": "ab3526ddedfc648c870b21a22c733f18",
     "grade": true,
     "grade_id": "cell-0320cd714fa3f0e1",
     "locked": true,
     "points": 1,
     "schema_version": 3,
     "solution": false,
     "task": false
    },
    "tags": []
   },
   "outputs": [],
   "source": [
    "a2 = {'A': ['B', ''], 'B' : ['','']}\n",
    "assert taille(a2,'A') == 2\n",
    "assert taille (a2,'B') == 1"
   ]
  },
  {
   "cell_type": "code",
   "execution_count": 5,
   "metadata": {
    "deletable": false,
    "editable": false,
    "nbgrader": {
     "cell_type": "code",
     "checksum": "31ae80e35a2a561d415831a51ac1a6b1",
     "grade": true,
     "grade_id": "cell-72135151bb68b78f",
     "locked": true,
     "points": 1,
     "schema_version": 3,
     "solution": false,
     "task": false
    },
    "tags": []
   },
   "outputs": [],
   "source": [
    "a3 = {'A' : ['','B'] , 'B' : ['C','D'], 'C' : ['', ''], 'D' : ['', '']}\n",
    "assert taille(a3, 'A') == 4\n",
    "assert taille(a3, 'B') == 3\n",
    "assert taille(a3, 'C') == 1"
   ]
  },
  {
   "cell_type": "code",
   "execution_count": 6,
   "metadata": {
    "deletable": false,
    "editable": false,
    "nbgrader": {
     "cell_type": "code",
     "checksum": "c7727d1296b858a4c3bab4418124eb94",
     "grade": true,
     "grade_id": "cell-3892feb2ffd0e793",
     "locked": true,
     "points": 2,
     "schema_version": 3,
     "solution": false,
     "task": false
    },
    "tags": []
   },
   "outputs": [],
   "source": [
    "a= {'F':['B','G'], 'B':['A','D'], 'A':['',''], 'D':['C','E'], 'C':['',''], 'E':['',''], 'G':['','I'], 'I':['','H'],'H':['','']}\n",
    "assert taille (a,\"F\" ) == 9\n",
    "assert taille (a, 'D') == 3"
   ]
  },
  {
   "cell_type": "markdown",
   "metadata": {
    "user_expressions": []
   },
   "source": [
    ":::{card}\n",
    ":header: **Equipe Pédagogique LFT-NSI**\n",
    "ressource éducative libre distribuée sous [Licence Creative Commons Attribution](http://creativecommons.org/licenses/by-nc-sa/4.0/)\n",
    "\n",
    "```{figure} https://licensebuttons.net/l/by-nc-sa/4.0/88x31.png\n",
    ":alt: Beautiful Sunset\n",
    ":width: 80px\n",
    ":align: center\n",
    "```\n",
    ":::"
   ]
  }
 ],
 "metadata": {
  "kernelspec": {
   "display_name": "Python 3 (ipykernel)",
   "language": "python",
   "name": "python3"
  },
  "language_info": {
   "codemirror_mode": {
    "name": "ipython",
    "version": 3
   },
   "file_extension": ".py",
   "mimetype": "text/x-python",
   "name": "python",
   "nbconvert_exporter": "python",
   "pygments_lexer": "ipython3",
   "version": "3.11.5"
  }
 },
 "nbformat": 4,
 "nbformat_minor": 4
}
